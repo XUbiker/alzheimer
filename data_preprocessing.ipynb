{
 "cells": [
  {
   "cell_type": "markdown",
   "metadata": {},
   "source": [
    "# Some settings and configurations"
   ]
  },
  {
   "cell_type": "code",
   "execution_count": 43,
   "metadata": {
    "collapsed": true
   },
   "outputs": [],
   "source": [
    "label_code = {\n",
    "    'AD': 2,\n",
    "    'MCI': 1,\n",
    "    'NC': 0\n",
    "}\n",
    "\n",
    "caffe_folder = '/home/xubiker/dev/caffe_modified/'"
   ]
  },
  {
   "cell_type": "markdown",
   "metadata": {},
   "source": [
    "# Load caffe\n",
    "\n",
    "It is needed to work with lmdb."
   ]
  },
  {
   "cell_type": "code",
   "execution_count": 44,
   "metadata": {
    "collapsed": true
   },
   "outputs": [],
   "source": [
    "def load_caffe(caffe_root):\n",
    "    import sys\n",
    "    pcr = caffe_root + \"/python\"\n",
    "    if not pcr in sys.path:\n",
    "        sys.path.append(pcr)"
   ]
  },
  {
   "cell_type": "code",
   "execution_count": 45,
   "metadata": {
    "collapsed": false
   },
   "outputs": [
    {
     "name": "stdout",
     "output_type": "stream",
     "text": [
      "caffe 1.0.0-rc3 loaded\n"
     ]
    }
   ],
   "source": [
    "load_caffe(caffe_folder)\n",
    "import caffe\n",
    "print('caffe', caffe.__version__, 'loaded')"
   ]
  },
  {
   "cell_type": "markdown",
   "metadata": {},
   "source": [
    "# Transform .nii to np-array"
   ]
  },
  {
   "cell_type": "code",
   "execution_count": 46,
   "metadata": {
    "collapsed": true
   },
   "outputs": [],
   "source": [
    "def nii_to_array(nii_filename, data_type, fix_nan=True):\n",
    "    import os\n",
    "    import nibabel as nib\n",
    "    import numpy as np\n",
    "    img = nib.load(nii_filename)\n",
    "    np_data = img.get_data().astype(data_type)\n",
    "    if fix_nan:\n",
    "        np_data = np.nan_to_num(np_data)\n",
    "    return np_data"
   ]
  },
  {
   "cell_type": "markdown",
   "metadata": {},
   "source": [
    "# Functions to save data to LMDB"
   ]
  },
  {
   "cell_type": "code",
   "execution_count": 47,
   "metadata": {
    "collapsed": true
   },
   "outputs": [],
   "source": [
    "def initiate_lmdb(lmdb_name, drop_existing = False):\n",
    "    import lmdb\n",
    "    import caffe\n",
    "    import numpy as np\n",
    "    \n",
    "    if drop_existing:\n",
    "        import os\n",
    "        import shutil\n",
    "        if os.path.exists(lmdb_name):\n",
    "            shutil.rmtree(lmdb_name) \n",
    "    \n",
    "    env = lmdb.open(lmdb_name, map_size=int(1e12))\n",
    "    print('database debug info:', env.stat())\n",
    "    return env"
   ]
  },
  {
   "cell_type": "code",
   "execution_count": 48,
   "metadata": {
    "collapsed": true
   },
   "outputs": [],
   "source": [
    "def write_to_transaction(txn, data, label, key):\n",
    "    import caffe\n",
    "    datum = caffe.proto.caffe_pb2.Datum()\n",
    "    (datum.width, datum.height, datum.channels) = data.shape\n",
    "    datum.data = data.tobytes()\n",
    "    datum.label = label\n",
    "    key = '{:08}'.format(key)\n",
    "    txn.put(key.encode('ascii'), datum.SerializeToString())"
   ]
  },
  {
   "cell_type": "code",
   "execution_count": 49,
   "metadata": {
    "collapsed": true
   },
   "outputs": [],
   "source": [
    "def array_to_proto(data, proto_name):\n",
    "    import caffe\n",
    "    blob = caffe.io.array_to_blobproto(data)\n",
    "    binaryproto_file = open(proto_name, 'wb+')\n",
    "    binaryproto_file.write(blob.SerializeToString())\n",
    "    binaryproto_file.close()"
   ]
  },
  {
   "cell_type": "markdown",
   "metadata": {},
   "source": [
    "# Functions to validate LMDB"
   ]
  },
  {
   "cell_type": "code",
   "execution_count": 50,
   "metadata": {
    "collapsed": true
   },
   "outputs": [],
   "source": [
    "def debug_lmdb_print_info(lmdb_name):\n",
    "    import caffe\n",
    "    print('debug printing for \\'', lmdb_name, '\\' lmdb data')\n",
    "    env = initiate_lmdb(lmdb_name, drop_existing = False)\n",
    "    print(env.stat())\n",
    "    with env.begin() as txn:\n",
    "        cursor = txn.cursor()\n",
    "        datum = caffe.proto.caffe_pb2.Datum()\n",
    "        i = 0\n",
    "        for key, value in cursor:\n",
    "            i += 1\n",
    "            datum.ParseFromString(value)\n",
    "            print('inst %d of size (%d, %d, %d) labeled %d' % (i, datum.width, datum.height, datum.channels, datum.label))"
   ]
  },
  {
   "cell_type": "code",
   "execution_count": 51,
   "metadata": {
    "collapsed": true
   },
   "outputs": [],
   "source": [
    "def debug_plot_median_slices(np_data, print_slices=False):\n",
    "    import matplotlib.pyplot as plt\n",
    "    x, y, z = np_data.shape\n",
    "    slc = np_data[:, :, z//2]\n",
    "    if print_slices: print(slc)\n",
    "    plt.matshow(slc, interpolation='nearest', cmap='gray')\n",
    "    plt.show()\n",
    "    slc = np_data[:, y//2, :]\n",
    "    if print_slices: print(slc)\n",
    "    plt.matshow(slc, interpolation='nearest', cmap='gray')\n",
    "    plt.show()\n",
    "    slc = np_data[x//2, :, :]\n",
    "    if print_slices: print(slc)\n",
    "    plt.matshow(slc, interpolation='nearest', cmap='gray')\n",
    "    plt.show()"
   ]
  },
  {
   "cell_type": "code",
   "execution_count": 52,
   "metadata": {
    "collapsed": true
   },
   "outputs": [],
   "source": [
    "def debug_lmdb_plot_slices(lmdb_name, data_type, print_slices=False):\n",
    "    import numpy as np\n",
    "    #np.set_printoptions(threshold=np.inf)\n",
    "    import caffe\n",
    "    import matplotlib.pyplot as plt\n",
    "    from random import randint\n",
    "    print('debug plotting slices for \\'%s\\' lmdb data' % lmdb_name)\n",
    "    env = initiate_lmdb(lmdb_name, drop_existing = False)\n",
    "    with env.begin() as txn:\n",
    "        cursor = txn.cursor()\n",
    "        datum = caffe.proto.caffe_pb2.Datum()\n",
    "        cursor.next();\n",
    "        value = cursor.value();\n",
    "        datum.ParseFromString(value)\n",
    "        flat_x = np.fromstring(datum.data, dtype=data_type)\n",
    "        x = flat_x.reshape(datum.width, datum.height, datum.channels)\n",
    "        debug_plot_median_slices(x, print_slices)"
   ]
  },
  {
   "cell_type": "markdown",
   "metadata": {},
   "source": [
    "# Functions to generate data lists"
   ]
  },
  {
   "cell_type": "code",
   "execution_count": 53,
   "metadata": {
    "collapsed": true
   },
   "outputs": [],
   "source": [
    "def generate_augm_params(max_augm_params):\n",
    "    import numpy as np\n",
    "    import random\n",
    "    random.seed()\n",
    "    max_shift = max_augm_params['shift']\n",
    "    max_blur = max_augm_params['blur']\n",
    "    while True:\n",
    "        shift_x = random.randint(-max_shift, max_shift)\n",
    "        shift_y = random.randint(-max_shift, max_shift)\n",
    "        shift_z = random.randint(-max_shift, max_shift)\n",
    "        blur_sigma = random.random() * max_blur\n",
    "        if shift_x + shift_y + shift_z + blur_sigma > 0:\n",
    "            return (shift_x, shift_y, shift_z, blur_sigma)"
   ]
  },
  {
   "cell_type": "code",
   "execution_count": 54,
   "metadata": {
    "collapsed": false
   },
   "outputs": [],
   "source": [
    "def generate_augm_lists(dirs_with_labels, new_size, max_augm_params, default_augm_params=None):\n",
    "    import random\n",
    "    import math\n",
    "    if new_size == None or len(dirs_with_labels) == new_size:\n",
    "        return [dwl + [default_augm_params] for dwl in dirs_with_labels]\n",
    "    augm_coeff = int(math.floor(new_size / len(dirs_with_labels)))\n",
    "    res = []\n",
    "    i = 0\n",
    "    for dwl in dirs_with_labels:\n",
    "        res.append(dwl + [(0, 0, 0, 0.0)])\n",
    "        i += 1\n",
    "        for _ in range(augm_coeff-1):\n",
    "            res.append(dwl + [generate_augm_params(max_augm_params)])\n",
    "            i += 1\n",
    "    while i < new_size:\n",
    "        dwl = random.choice(dirs_with_labels)\n",
    "        res.append(dwl +[generate_augm_params(max_augm_params)])\n",
    "        i += 1\n",
    "    return res"
   ]
  },
  {
   "cell_type": "code",
   "execution_count": 55,
   "metadata": {
    "collapsed": true
   },
   "outputs": [],
   "source": [
    "def generate_lists_from_adni2(adni_root, max_augm_params, augm_factor, valid_prc = 0.25, test_prc = 0.25, shuffle_data=True, debug=True):\n",
    "    \n",
    "    import os\n",
    "    import numpy as np\n",
    "    import random\n",
    "\n",
    "    stage_dirs = {\n",
    "        'AD': adni_root + '/AD/',\n",
    "        'MCI': adni_root + '/MCI/',\n",
    "        'NC': adni_root + '/NC/'\n",
    "    }\n",
    "    \n",
    "    default_augm = (0, 0, 0, 0.0)\n",
    "    \n",
    "    patients_MRI_train = []\n",
    "    patients_MD_train = []\n",
    "    patients_MRI_test = []\n",
    "    patients_MD_test = []\n",
    "    \n",
    "    \n",
    "    class_size = {k: len(os.listdir(stage_dirs[k])) for k in stage_dirs}\n",
    "    print('source patients:', class_size)\n",
    "\n",
    "    ts = int(min(class_size.values()) * test_prc)\n",
    "    test_size = {k: ts for k in stage_dirs}\n",
    "    valid_size = {k: int(class_size[k] * valid_prc) for k in stage_dirs}\n",
    "    train_size = {k: class_size[k] - test_size[k] - valid_size[k] for k in stage_dirs}\n",
    "    \n",
    "    print('source patients used for train:', train_size)\n",
    "    print('source patients used for validation:', valid_size)\n",
    "    print('source patients used for test', test_size)\n",
    "\n",
    "    train_size_balanced = int(max(train_size.values()) * augm_factor)\n",
    "    valid_size_balanced = int(max(valid_size.values()) * augm_factor)\n",
    "    print('train data will be augmented to %d samples by each class' % train_size_balanced)\n",
    "    print('validation data will be augmented to %d samples by each class' % valid_size_balanced)\n",
    "    print('test data will be augmented to %d samples by each class' % ts)\n",
    "    \n",
    "    train_lists_out = []\n",
    "    valid_lists_out = []\n",
    "    test_lists_out = []\n",
    "    \n",
    "    for k in stage_dirs:\n",
    "        stage_dir = stage_dirs[k]\n",
    "        patient_dirs = os.listdir(stage_dirs[k])\n",
    "        np.random.shuffle(patient_dirs)\n",
    "\n",
    "        test_dirs = patient_dirs[:test_size[k]]\n",
    "        valid_dirs = patient_dirs[test_size[k]:test_size[k]+valid_size[k]]\n",
    "        train_dirs = patient_dirs[test_size[k]+valid_size[k]:]\n",
    "                                 \n",
    "        train_lists = [[k, stage_dir + d + '/SMRI/', stage_dir + d + '/MD/'] for d in train_dirs]\n",
    "        valid_lists = [[k, stage_dir + d + '/SMRI/', stage_dir + d + '/MD/'] for d in valid_dirs]\n",
    "        test_lists = [[k, stage_dir + d + '/SMRI/', stage_dir + d + '/MD/'] for d in test_dirs]\n",
    "        \n",
    "        train_lists_out += generate_augm_lists(train_lists, train_size_balanced, max_augm_params)\n",
    "        valid_lists_out += generate_augm_lists(valid_lists, valid_size_balanced, max_augm_params)\n",
    "        test_lists_out += generate_augm_lists(test_lists, None, None, default_augm_params=default_augm)\n",
    "    \n",
    "    if shuffle_data:\n",
    "        random.shuffle(train_lists_out)\n",
    "        random.shuffle(valid_lists_out)\n",
    "        random.shuffle(test_lists_out)\n",
    "    \n",
    "    if debug:\n",
    "        print('### train lists (%d instances):' % len(train_lists_out))\n",
    "        for i in train_lists_out: print(i)\n",
    "        print('### valid lists (%d instances):' % len(valid_lists_out))\n",
    "        for i in valid_lists_out: print(i)\n",
    "        print('### test lists (%d instances):' % len(test_lists_out))\n",
    "        for i in test_lists_out: print(i)\n",
    "        \n",
    "        \n",
    "    return (train_lists_out, valid_lists_out, test_lists_out)"
   ]
  },
  {
   "cell_type": "code",
   "execution_count": 56,
   "metadata": {
    "collapsed": true
   },
   "outputs": [],
   "source": [
    "def split_mri_dti(item_list):\n",
    "    mri_list = [(i[0], i[1], i[3]) for i in item_list]\n",
    "    dti_list = [(i[0], i[2], i[3]) for i in item_list]\n",
    "    return mri_list, dti_list"
   ]
  },
  {
   "cell_type": "code",
   "execution_count": 57,
   "metadata": {
    "collapsed": true
   },
   "outputs": [],
   "source": [
    "def get_nii_from_folder(folder):\n",
    "    import os\n",
    "    res = []\n",
    "    for root, dirs, files in os.walk(folder):\n",
    "        for file in files:\n",
    "            if file.endswith('.nii'):\n",
    "                res.append(os.path.join(root, file))\n",
    "    if len(res) > 1:\n",
    "        print('WARNING. Folder %s contains more than one files' % folder)\n",
    "    return res"
   ]
  },
  {
   "cell_type": "markdown",
   "metadata": {},
   "source": [
    "# Functions to preprocess and augment data"
   ]
  },
  {
   "cell_type": "code",
   "execution_count": 58,
   "metadata": {
    "collapsed": true
   },
   "outputs": [],
   "source": [
    "def crop(data, crop_prc, shift_prc):\n",
    "    dims = np.array(data.shape).astype(np.float)\n",
    "    pads = np.round(dims * np.array(crop_prc).astype(np.float)).astype(np.int)\n",
    "    shifts = np.round(dims * np.array(shift_prc).astype(np.float)).astype(np.int)\n",
    "    if pads.size != 3:\n",
    "        raise NameError('unsupported number of dimensions')\n",
    "    else:\n",
    "        x, y, z = data.shape\n",
    "        pad_x, pad_y, pad_z = pads\n",
    "        sh_x, sh_y, sh_z = shifts\n",
    "        data_new = data[sh_x+pad_x:x+sh_x-pad_x, sh_y+pad_y:y+sh_y-pad_y, sh_z+pad_z:z+sh_z-pad_z]\n",
    "        print('cropping data:', data.shape, '->', data_new.shape)\n",
    "        return data_new    "
   ]
  },
  {
   "cell_type": "code",
   "execution_count": 59,
   "metadata": {
    "collapsed": false
   },
   "outputs": [],
   "source": [
    "def augment(data, max_shift, augm_params):\n",
    "\n",
    "    # augm_params should be a tuple of 4 elements: shift_x, shift_y, shift_z, blur_sigma\n",
    "    if data.ndim != 3 or len(augm_params) != 4: raise NameError('invalid input')\n",
    "    \n",
    "    import numpy as np\n",
    "    from random import randint\n",
    "    from scipy.ndimage.filters import gaussian_filter\n",
    "    \n",
    "    shift_x = augm_params[0]\n",
    "    shift_y = augm_params[1]\n",
    "    shift_z = augm_params[2]\n",
    "    blur_sigma = augm_params[3]\n",
    "    \n",
    "    s_x, s_y, s_z = (data.shape[0] - 2 * max_shift, data.shape[1] - 2 * max_shift, data.shape[2] - 2 * max_shift)\n",
    "\n",
    "    blurred = data if blur_sigma == 0 else gaussian_filter(data, sigma = blur_sigma)\n",
    "    sub_data = blurred[max_shift + shift_x : s_x + max_shift + shift_x,\n",
    "                       max_shift + shift_y : s_y + max_shift + shift_y,\n",
    "                       max_shift + shift_z : s_z + max_shift + shift_z]\n",
    "    return sub_data"
   ]
  },
  {
   "cell_type": "code",
   "execution_count": 60,
   "metadata": {
    "collapsed": false
   },
   "outputs": [],
   "source": [
    "def process(list_item, data_type, max_augm_shift, crop_params=None):\n",
    "    nii = get_nii_from_folder(list_item[1])[0]\n",
    "    array = nii_to_array(nii, data_type)\n",
    "    if crop_params != None:\n",
    "        array = crop(array, crop_prc=crop_params['prc'], shift_prc=crop_params['shift'])\n",
    "    augm = augment(array, max_augm_shift, list_item[2])\n",
    "    return augm"
   ]
  },
  {
   "cell_type": "code",
   "execution_count": 61,
   "metadata": {
    "collapsed": false
   },
   "outputs": [],
   "source": [
    "def make_lmdb(one_modality_list, data_type, lmdb_name, max_augm_shift, crop_params=None):\n",
    "    env = initiate_lmdb(lmdb_name, drop_existing = True)\n",
    "    key = 0\n",
    "    with env.begin(write=True) as txn:\n",
    "        for i in one_modality_list:\n",
    "            augm = process(i, data_type, max_augm_shift, crop_params)\n",
    "            print('%d. writing image of shape %s to lmdb (%s)' % (key, str(augm.shape), i[1]))\n",
    "            write_to_transaction(txn, augm, label_code[i[0]], key)\n",
    "            key += 1"
   ]
  },
  {
   "cell_type": "markdown",
   "metadata": {},
   "source": [
    "# Functions to generate mean file"
   ]
  },
  {
   "cell_type": "code",
   "execution_count": 62,
   "metadata": {
    "collapsed": true
   },
   "outputs": [],
   "source": [
    "def calc_lmdb_mean(lmdb_path, data_type, reshape_4D = True, plot_mean = True):\n",
    "    import caffe\n",
    "    import numpy as np\n",
    "    import matplotlib.pyplot as plt\n",
    "    \n",
    "    env = initiate_lmdb(lmdb_path, drop_existing = False)\n",
    "    mean = np.empty\n",
    "    i = 0\n",
    "    with env.begin() as txn:\n",
    "        datum = caffe.proto.caffe_pb2.Datum()\n",
    "        cursor = txn.cursor()\n",
    "        cursor.next();\n",
    "        datum.ParseFromString(cursor.value())\n",
    "        mean = np.zeros([datum.channels, datum.height, datum.width])\n",
    "        cursor = txn.cursor()\n",
    "        for key, value in cursor:\n",
    "            i += 1\n",
    "            datum.ParseFromString(value)\n",
    "            flat = np.fromstring(datum.data, dtype=data_type)\n",
    "            x = flat.reshape(datum.channels, datum.height, datum.width)\n",
    "            mean = np.add(mean, x)\n",
    "    mean = np.divide(mean, i)\n",
    "    if plot_mean:\n",
    "        debug_plot_median_slices(mean)\n",
    "    if reshape_4D:\n",
    "        mean = mean.reshape((1,) + mean.shape)\n",
    "        print('mean image reshaped to', mean.shape)\n",
    "    return mean"
   ]
  },
  {
   "cell_type": "markdown",
   "metadata": {},
   "source": [
    "# An example of how to do data preprocessing"
   ]
  },
  {
   "cell_type": "code",
   "execution_count": 63,
   "metadata": {
    "collapsed": false
   },
   "outputs": [
    {
     "name": "stdout",
     "output_type": "stream",
     "text": [
      "source patients: {'NC': 58, 'AD': 48, 'MCI': 108}\n",
      "source patients used for train: {'NC': 32, 'AD': 24, 'MCI': 69}\n",
      "source patients used for validation: {'NC': 14, 'AD': 12, 'MCI': 27}\n",
      "source patients used for test {'NC': 12, 'AD': 12, 'MCI': 12}\n",
      "train data will be augmented to 138 samples by each class\n",
      "validation data will be augmented to 54 samples by each class\n",
      "test data will be augmented to 12 samples by each class\n",
      "database debug info: {'overflow_pages': 0, 'entries': 0, 'branch_pages': 0, 'depth': 0, 'psize': 4096, 'leaf_pages': 0}\n",
      "cropping data: (121, 145, 121) -> (109, 131, 109)\n",
      "0. writing image of shape (105, 127, 105) to lmdb (/home/xubiker/ADNI_Multimodal/dataset//NC/003_S_4288/SMRI/)\n",
      "cropping data: (121, 145, 121) -> (109, 131, 109)\n",
      "1. writing image of shape (105, 127, 105) to lmdb (/home/xubiker/ADNI_Multimodal/dataset//MCI/126_S_4507/SMRI/)\n",
      "cropping data: (121, 145, 121) -> (109, 131, 109)\n",
      "2. writing image of shape (105, 127, 105) to lmdb (/home/xubiker/ADNI_Multimodal/dataset//NC/007_S_4488/SMRI/)\n",
      "cropping data: (121, 145, 121) -> (109, 131, 109)\n",
      "3. writing image of shape (105, 127, 105) to lmdb (/home/xubiker/ADNI_Multimodal/dataset//AD/094_S_4737/SMRI/)\n",
      "cropping data: (121, 145, 121) -> (109, 131, 109)\n",
      "4. writing image of shape (105, 127, 105) to lmdb (/home/xubiker/ADNI_Multimodal/dataset//NC/003_S_4288/SMRI/)\n",
      "cropping data: (121, 145, 121) -> (109, 131, 109)\n",
      "5. writing image of shape (105, 127, 105) to lmdb (/home/xubiker/ADNI_Multimodal/dataset//NC/016_S_4638/SMRI/)\n",
      "cropping data: (121, 145, 121) -> (109, 131, 109)\n",
      "6. writing image of shape (105, 127, 105) to lmdb (/home/xubiker/ADNI_Multimodal/dataset//NC/029_S_4585/SMRI/)\n",
      "cropping data: (121, 145, 121) -> (109, 131, 109)\n",
      "7. writing image of shape (105, 127, 105) to lmdb (/home/xubiker/ADNI_Multimodal/dataset//NC/029_S_4585/SMRI/)\n",
      "cropping data: (121, 145, 121) -> (109, 131, 109)\n",
      "8. writing image of shape (105, 127, 105) to lmdb (/home/xubiker/ADNI_Multimodal/dataset//MCI/094_S_2238/SMRI/)\n",
      "cropping data: (121, 145, 121) -> (109, 131, 109)\n",
      "9. writing image of shape (105, 127, 105) to lmdb (/home/xubiker/ADNI_Multimodal/dataset//MCI/052_S_4885/SMRI/)\n",
      "cropping data: (121, 145, 121) -> (109, 131, 109)\n",
      "10. writing image of shape (105, 127, 105) to lmdb (/home/xubiker/ADNI_Multimodal/dataset//MCI/126_S_4458/SMRI/)\n",
      "cropping data: (121, 145, 121) -> (109, 131, 109)\n",
      "11. writing image of shape (105, 127, 105) to lmdb (/home/xubiker/ADNI_Multimodal/dataset//MCI/094_S_4858/SMRI/)\n",
      "cropping data: (121, 145, 121) -> (109, 131, 109)\n",
      "12. writing image of shape (105, 127, 105) to lmdb (/home/xubiker/ADNI_Multimodal/dataset//NC/003_S_4840/SMRI/)\n",
      "cropping data: (121, 145, 121) -> (109, 131, 109)\n",
      "13. writing image of shape (105, 127, 105) to lmdb (/home/xubiker/ADNI_Multimodal/dataset//AD/094_S_4089/SMRI/)\n",
      "cropping data: (121, 145, 121) -> (109, 131, 109)\n",
      "14. writing image of shape (105, 127, 105) to lmdb (/home/xubiker/ADNI_Multimodal/dataset//NC/007_S_4620/SMRI/)\n",
      "cropping data: (121, 145, 121) -> (109, 131, 109)\n",
      "15. writing image of shape (105, 127, 105) to lmdb (/home/xubiker/ADNI_Multimodal/dataset//NC/007_S_4516/SMRI/)\n",
      "cropping data: (121, 145, 121) -> (109, 131, 109)\n",
      "16. writing image of shape (105, 127, 105) to lmdb (/home/xubiker/ADNI_Multimodal/dataset//NC/127_S_4604/SMRI/)\n",
      "cropping data: (121, 145, 121) -> (109, 131, 109)\n",
      "17. writing image of shape (105, 127, 105) to lmdb (/home/xubiker/ADNI_Multimodal/dataset//AD/016_S_4887/SMRI/)\n",
      "cropping data: (121, 145, 121) -> (109, 131, 109)\n",
      "18. writing image of shape (105, 127, 105) to lmdb (/home/xubiker/ADNI_Multimodal/dataset//MCI/094_S_4295/SMRI/)\n",
      "cropping data: (121, 145, 121) -> (109, 131, 109)\n",
      "19. writing image of shape (105, 127, 105) to lmdb (/home/xubiker/ADNI_Multimodal/dataset//AD/016_S_4887/SMRI/)\n",
      "cropping data: (121, 145, 121) -> (109, 131, 109)\n",
      "20. writing image of shape (105, 127, 105) to lmdb (/home/xubiker/ADNI_Multimodal/dataset//MCI/094_S_4630/SMRI/)\n",
      "cropping data: (121, 145, 121) -> (109, 131, 109)\n",
      "21. writing image of shape (105, 127, 105) to lmdb (/home/xubiker/ADNI_Multimodal/dataset//NC/127_S_4645/SMRI/)\n",
      "cropping data: (121, 145, 121) -> (109, 131, 109)\n",
      "22. writing image of shape (105, 127, 105) to lmdb (/home/xubiker/ADNI_Multimodal/dataset//NC/016_S_4638/SMRI/)\n",
      "cropping data: (121, 145, 121) -> (109, 131, 109)\n",
      "23. writing image of shape (105, 127, 105) to lmdb (/home/xubiker/ADNI_Multimodal/dataset//MCI/126_S_4712/SMRI/)\n",
      "cropping data: (121, 145, 121) -> (109, 131, 109)\n",
      "24. writing image of shape (105, 127, 105) to lmdb (/home/xubiker/ADNI_Multimodal/dataset//AD/003_S_4142/SMRI/)\n",
      "cropping data: (121, 145, 121) -> (109, 131, 109)\n",
      "25. writing image of shape (105, 127, 105) to lmdb (/home/xubiker/ADNI_Multimodal/dataset//NC/099_S_4104/SMRI/)\n",
      "cropping data: (121, 145, 121) -> (109, 131, 109)\n",
      "26. writing image of shape (105, 127, 105) to lmdb (/home/xubiker/ADNI_Multimodal/dataset//AD/021_S_4924/SMRI/)\n",
      "cropping data: (121, 145, 121) -> (109, 131, 109)\n",
      "27. writing image of shape (105, 127, 105) to lmdb (/home/xubiker/ADNI_Multimodal/dataset//NC/003_S_4840/SMRI/)\n",
      "cropping data: (121, 145, 121) -> (109, 131, 109)\n",
      "28. writing image of shape (105, 127, 105) to lmdb (/home/xubiker/ADNI_Multimodal/dataset//MCI/109_S_4594/SMRI/)\n",
      "cropping data: (121, 145, 121) -> (109, 131, 109)\n",
      "29. writing image of shape (105, 127, 105) to lmdb (/home/xubiker/ADNI_Multimodal/dataset//NC/029_S_4585/SMRI/)\n",
      "cropping data: (121, 145, 121) -> (109, 131, 109)\n",
      "30. writing image of shape (105, 127, 105) to lmdb (/home/xubiker/ADNI_Multimodal/dataset//AD/021_S_4924/SMRI/)\n",
      "cropping data: (121, 145, 121) -> (109, 131, 109)\n",
      "31. writing image of shape (105, 127, 105) to lmdb (/home/xubiker/ADNI_Multimodal/dataset//NC/007_S_4620/SMRI/)\n",
      "cropping data: (121, 145, 121) -> (109, 131, 109)\n",
      "32. writing image of shape (105, 127, 105) to lmdb (/home/xubiker/ADNI_Multimodal/dataset//NC/127_S_4198/SMRI/)\n",
      "cropping data: (121, 145, 121) -> (109, 131, 109)\n",
      "33. writing image of shape (105, 127, 105) to lmdb (/home/xubiker/ADNI_Multimodal/dataset//MCI/016_S_4575/SMRI/)\n",
      "cropping data: (121, 145, 121) -> (109, 131, 109)\n",
      "34. writing image of shape (105, 127, 105) to lmdb (/home/xubiker/ADNI_Multimodal/dataset//MCI/016_S_4584/SMRI/)\n",
      "cropping data: (121, 145, 121) -> (109, 131, 109)\n",
      "35. writing image of shape (105, 127, 105) to lmdb (/home/xubiker/ADNI_Multimodal/dataset//NC/003_S_4872/SMRI/)\n",
      "cropping data: (121, 145, 121) -> (109, 131, 109)\n",
      "36. writing image of shape (105, 127, 105) to lmdb (/home/xubiker/ADNI_Multimodal/dataset//MCI/016_S_4584/SMRI/)\n",
      "cropping data: (121, 145, 121) -> (109, 131, 109)\n",
      "37. writing image of shape (105, 127, 105) to lmdb (/home/xubiker/ADNI_Multimodal/dataset//NC/007_S_4620/SMRI/)\n",
      "cropping data: (121, 145, 121) -> (109, 131, 109)\n",
      "38. writing image of shape (105, 127, 105) to lmdb (/home/xubiker/ADNI_Multimodal/dataset//AD/027_S_4938/SMRI/)\n",
      "cropping data: (121, 145, 121) -> (109, 131, 109)\n",
      "39. writing image of shape (105, 127, 105) to lmdb (/home/xubiker/ADNI_Multimodal/dataset//MCI/126_S_4507/SMRI/)\n",
      "cropping data: (121, 145, 121) -> (109, 131, 109)\n",
      "40. writing image of shape (105, 127, 105) to lmdb (/home/xubiker/ADNI_Multimodal/dataset//NC/127_S_4645/SMRI/)\n",
      "cropping data: (121, 145, 121) -> (109, 131, 109)\n",
      "41. writing image of shape (105, 127, 105) to lmdb (/home/xubiker/ADNI_Multimodal/dataset//AD/027_S_4801/SMRI/)\n",
      "cropping data: (121, 145, 121) -> (109, 131, 109)\n",
      "42. writing image of shape (105, 127, 105) to lmdb (/home/xubiker/ADNI_Multimodal/dataset//MCI/016_S_4902/SMRI/)\n",
      "cropping data: (121, 145, 121) -> (109, 131, 109)\n",
      "43. writing image of shape (105, 127, 105) to lmdb (/home/xubiker/ADNI_Multimodal/dataset//AD/003_S_4142/SMRI/)\n",
      "cropping data: (121, 145, 121) -> (109, 131, 109)\n",
      "44. writing image of shape (105, 127, 105) to lmdb (/home/xubiker/ADNI_Multimodal/dataset//NC/099_S_4104/SMRI/)\n",
      "cropping data: (121, 145, 121) -> (109, 131, 109)\n",
      "45. writing image of shape (105, 127, 105) to lmdb (/home/xubiker/ADNI_Multimodal/dataset//AD/027_S_4938/SMRI/)\n",
      "cropping data: (121, 145, 121) -> (109, 131, 109)\n",
      "46. writing image of shape (105, 127, 105) to lmdb (/home/xubiker/ADNI_Multimodal/dataset//AD/052_S_4959/SMRI/)\n",
      "cropping data: (121, 145, 121) -> (109, 131, 109)\n",
      "47. writing image of shape (105, 127, 105) to lmdb (/home/xubiker/ADNI_Multimodal/dataset//AD/003_S_4142/SMRI/)\n",
      "cropping data: (121, 145, 121) -> (109, 131, 109)\n",
      "48. writing image of shape (105, 127, 105) to lmdb (/home/xubiker/ADNI_Multimodal/dataset//NC/127_S_4604/SMRI/)\n",
      "cropping data: (121, 145, 121) -> (109, 131, 109)\n",
      "49. writing image of shape (105, 127, 105) to lmdb (/home/xubiker/ADNI_Multimodal/dataset//AD/027_S_4938/SMRI/)\n",
      "cropping data: (121, 145, 121) -> (109, 131, 109)\n",
      "50. writing image of shape (105, 127, 105) to lmdb (/home/xubiker/ADNI_Multimodal/dataset//NC/003_S_4840/SMRI/)\n",
      "cropping data: (121, 145, 121) -> (109, 131, 109)\n",
      "51. writing image of shape (105, 127, 105) to lmdb (/home/xubiker/ADNI_Multimodal/dataset//AD/127_S_4940/SMRI/)\n",
      "cropping data: (121, 145, 121) -> (109, 131, 109)\n",
      "52. writing image of shape (105, 127, 105) to lmdb (/home/xubiker/ADNI_Multimodal/dataset//AD/027_S_4801/SMRI/)\n",
      "cropping data: (121, 145, 121) -> (109, 131, 109)\n",
      "53. writing image of shape (105, 127, 105) to lmdb (/home/xubiker/ADNI_Multimodal/dataset//MCI/098_S_2052/SMRI/)\n",
      "cropping data: (121, 145, 121) -> (109, 131, 109)\n",
      "54. writing image of shape (105, 127, 105) to lmdb (/home/xubiker/ADNI_Multimodal/dataset//AD/094_S_4737/SMRI/)\n",
      "cropping data: (121, 145, 121) -> (109, 131, 109)\n",
      "55. writing image of shape (105, 127, 105) to lmdb (/home/xubiker/ADNI_Multimodal/dataset//MCI/007_S_2106/SMRI/)\n",
      "cropping data: (121, 145, 121) -> (109, 131, 109)\n",
      "56. writing image of shape (105, 127, 105) to lmdb (/home/xubiker/ADNI_Multimodal/dataset//NC/003_S_4872/SMRI/)\n",
      "cropping data: (121, 145, 121) -> (109, 131, 109)\n",
      "57. writing image of shape (105, 127, 105) to lmdb (/home/xubiker/ADNI_Multimodal/dataset//AD/003_S_5165/SMRI/)\n",
      "cropping data: (121, 145, 121) -> (109, 131, 109)\n",
      "58. writing image of shape (105, 127, 105) to lmdb (/home/xubiker/ADNI_Multimodal/dataset//NC/127_S_4198/SMRI/)\n",
      "cropping data: (121, 145, 121) -> (109, 131, 109)\n",
      "59. writing image of shape (105, 127, 105) to lmdb (/home/xubiker/ADNI_Multimodal/dataset//NC/127_S_4645/SMRI/)\n",
      "cropping data: (121, 145, 121) -> (109, 131, 109)\n",
      "60. writing image of shape (105, 127, 105) to lmdb (/home/xubiker/ADNI_Multimodal/dataset//AD/027_S_4938/SMRI/)\n",
      "cropping data: (121, 145, 121) -> (109, 131, 109)\n",
      "61. writing image of shape (105, 127, 105) to lmdb (/home/xubiker/ADNI_Multimodal/dataset//AD/027_S_4964/SMRI/)\n",
      "cropping data: (121, 145, 121) -> (109, 131, 109)\n",
      "62. writing image of shape (105, 127, 105) to lmdb (/home/xubiker/ADNI_Multimodal/dataset//MCI/027_S_4955/SMRI/)\n",
      "cropping data: (121, 145, 121) -> (109, 131, 109)\n",
      "63. writing image of shape (105, 127, 105) to lmdb (/home/xubiker/ADNI_Multimodal/dataset//AD/016_S_4887/SMRI/)\n",
      "cropping data: (121, 145, 121) -> (109, 131, 109)\n",
      "64. writing image of shape (105, 127, 105) to lmdb (/home/xubiker/ADNI_Multimodal/dataset//AD/027_S_4964/SMRI/)\n",
      "cropping data: (121, 145, 121) -> (109, 131, 109)\n",
      "65. writing image of shape (105, 127, 105) to lmdb (/home/xubiker/ADNI_Multimodal/dataset//MCI/098_S_2052/SMRI/)\n",
      "cropping data: (121, 145, 121) -> (109, 131, 109)\n",
      "66. writing image of shape (105, 127, 105) to lmdb (/home/xubiker/ADNI_Multimodal/dataset//MCI/029_S_4327/SMRI/)\n",
      "cropping data: (121, 145, 121) -> (109, 131, 109)\n",
      "67. writing image of shape (105, 127, 105) to lmdb (/home/xubiker/ADNI_Multimodal/dataset//NC/003_S_4555/SMRI/)\n",
      "cropping data: (121, 145, 121) -> (109, 131, 109)\n",
      "68. writing image of shape (105, 127, 105) to lmdb (/home/xubiker/ADNI_Multimodal/dataset//NC/127_S_4198/SMRI/)\n",
      "cropping data: (121, 145, 121) -> (109, 131, 109)\n",
      "69. writing image of shape (105, 127, 105) to lmdb (/home/xubiker/ADNI_Multimodal/dataset//MCI/007_S_2106/SMRI/)\n",
      "cropping data: (121, 145, 121) -> (109, 131, 109)\n",
      "70. writing image of shape (105, 127, 105) to lmdb (/home/xubiker/ADNI_Multimodal/dataset//AD/003_S_5165/SMRI/)\n",
      "cropping data: (121, 145, 121) -> (109, 131, 109)\n",
      "71. writing image of shape (105, 127, 105) to lmdb (/home/xubiker/ADNI_Multimodal/dataset//AD/094_S_4737/SMRI/)\n",
      "cropping data: (121, 145, 121) -> (109, 131, 109)\n",
      "72. writing image of shape (105, 127, 105) to lmdb (/home/xubiker/ADNI_Multimodal/dataset//AD/094_S_4282/SMRI/)\n",
      "cropping data: (121, 145, 121) -> (109, 131, 109)\n",
      "73. writing image of shape (105, 127, 105) to lmdb (/home/xubiker/ADNI_Multimodal/dataset//AD/052_S_4959/SMRI/)\n",
      "cropping data: (121, 145, 121) -> (109, 131, 109)\n",
      "74. writing image of shape (105, 127, 105) to lmdb (/home/xubiker/ADNI_Multimodal/dataset//AD/027_S_4938/SMRI/)\n",
      "cropping data: (121, 145, 121) -> (109, 131, 109)\n",
      "75. writing image of shape (105, 127, 105) to lmdb (/home/xubiker/ADNI_Multimodal/dataset//NC/003_S_4872/SMRI/)\n",
      "cropping data: (121, 145, 121) -> (109, 131, 109)\n",
      "76. writing image of shape (105, 127, 105) to lmdb (/home/xubiker/ADNI_Multimodal/dataset//MCI/052_S_4885/SMRI/)\n",
      "cropping data: (121, 145, 121) -> (109, 131, 109)\n",
      "77. writing image of shape (105, 127, 105) to lmdb (/home/xubiker/ADNI_Multimodal/dataset//MCI/027_S_4804/SMRI/)\n",
      "cropping data: (121, 145, 121) -> (109, 131, 109)\n",
      "78. writing image of shape (105, 127, 105) to lmdb (/home/xubiker/ADNI_Multimodal/dataset//MCI/029_S_2376/SMRI/)\n",
      "cropping data: (121, 145, 121) -> (109, 131, 109)\n",
      "79. writing image of shape (105, 127, 105) to lmdb (/home/xubiker/ADNI_Multimodal/dataset//NC/098_S_4050/SMRI/)\n",
      "cropping data: (121, 145, 121) -> (109, 131, 109)\n",
      "80. writing image of shape (105, 127, 105) to lmdb (/home/xubiker/ADNI_Multimodal/dataset//AD/052_S_4959/SMRI/)\n",
      "cropping data: (121, 145, 121) -> (109, 131, 109)\n",
      "81. writing image of shape (105, 127, 105) to lmdb (/home/xubiker/ADNI_Multimodal/dataset//AD/094_S_4089/SMRI/)\n",
      "cropping data: (121, 145, 121) -> (109, 131, 109)\n",
      "82. writing image of shape (105, 127, 105) to lmdb (/home/xubiker/ADNI_Multimodal/dataset//MCI/052_S_2249/SMRI/)\n",
      "cropping data: (121, 145, 121) -> (109, 131, 109)\n",
      "83. writing image of shape (105, 127, 105) to lmdb (/home/xubiker/ADNI_Multimodal/dataset//MCI/127_S_4844/SMRI/)\n",
      "cropping data: (121, 145, 121) -> (109, 131, 109)\n",
      "84. writing image of shape (105, 127, 105) to lmdb (/home/xubiker/ADNI_Multimodal/dataset//NC/003_S_4840/SMRI/)\n",
      "cropping data: (121, 145, 121) -> (109, 131, 109)\n",
      "85. writing image of shape (105, 127, 105) to lmdb (/home/xubiker/ADNI_Multimodal/dataset//MCI/098_S_2047/SMRI/)\n",
      "cropping data: (121, 145, 121) -> (109, 131, 109)\n",
      "86. writing image of shape (105, 127, 105) to lmdb (/home/xubiker/ADNI_Multimodal/dataset//NC/003_S_4288/SMRI/)\n",
      "cropping data: (121, 145, 121) -> (109, 131, 109)\n",
      "87. writing image of shape (105, 127, 105) to lmdb (/home/xubiker/ADNI_Multimodal/dataset//AD/094_S_4282/SMRI/)\n",
      "cropping data: (121, 145, 121) -> (109, 131, 109)\n",
      "88. writing image of shape (105, 127, 105) to lmdb (/home/xubiker/ADNI_Multimodal/dataset//AD/094_S_4282/SMRI/)\n",
      "cropping data: (121, 145, 121) -> (109, 131, 109)\n",
      "89. writing image of shape (105, 127, 105) to lmdb (/home/xubiker/ADNI_Multimodal/dataset//MCI/052_S_2249/SMRI/)\n",
      "cropping data: (121, 145, 121) -> (109, 131, 109)\n",
      "90. writing image of shape (105, 127, 105) to lmdb (/home/xubiker/ADNI_Multimodal/dataset//MCI/016_S_5007/SMRI/)\n",
      "cropping data: (121, 145, 121) -> (109, 131, 109)\n",
      "91. writing image of shape (105, 127, 105) to lmdb (/home/xubiker/ADNI_Multimodal/dataset//AD/003_S_5165/SMRI/)\n",
      "cropping data: (121, 145, 121) -> (109, 131, 109)\n",
      "92. writing image of shape (105, 127, 105) to lmdb (/home/xubiker/ADNI_Multimodal/dataset//MCI/094_S_2201/SMRI/)\n",
      "cropping data: (121, 145, 121) -> (109, 131, 109)\n",
      "93. writing image of shape (105, 127, 105) to lmdb (/home/xubiker/ADNI_Multimodal/dataset//AD/094_S_4737/SMRI/)\n",
      "cropping data: (121, 145, 121) -> (109, 131, 109)\n",
      "94. writing image of shape (105, 127, 105) to lmdb (/home/xubiker/ADNI_Multimodal/dataset//NC/127_S_4645/SMRI/)\n",
      "cropping data: (121, 145, 121) -> (109, 131, 109)\n",
      "95. writing image of shape (105, 127, 105) to lmdb (/home/xubiker/ADNI_Multimodal/dataset//MCI/094_S_4295/SMRI/)\n",
      "cropping data: (121, 145, 121) -> (109, 131, 109)\n",
      "96. writing image of shape (105, 127, 105) to lmdb (/home/xubiker/ADNI_Multimodal/dataset//AD/127_S_4940/SMRI/)\n",
      "cropping data: (121, 145, 121) -> (109, 131, 109)\n",
      "97. writing image of shape (105, 127, 105) to lmdb (/home/xubiker/ADNI_Multimodal/dataset//MCI/094_S_2201/SMRI/)\n",
      "cropping data: (121, 145, 121) -> (109, 131, 109)\n",
      "98. writing image of shape (105, 127, 105) to lmdb (/home/xubiker/ADNI_Multimodal/dataset//NC/098_S_4050/SMRI/)\n",
      "cropping data: (121, 145, 121) -> (109, 131, 109)\n",
      "99. writing image of shape (105, 127, 105) to lmdb (/home/xubiker/ADNI_Multimodal/dataset//MCI/016_S_4575/SMRI/)\n",
      "cropping data: (121, 145, 121) -> (109, 131, 109)\n",
      "100. writing image of shape (105, 127, 105) to lmdb (/home/xubiker/ADNI_Multimodal/dataset//MCI/098_S_2047/SMRI/)\n",
      "cropping data: (121, 145, 121) -> (109, 131, 109)\n",
      "101. writing image of shape (105, 127, 105) to lmdb (/home/xubiker/ADNI_Multimodal/dataset//NC/003_S_4872/SMRI/)\n",
      "cropping data: (121, 145, 121) -> (109, 131, 109)\n",
      "102. writing image of shape (105, 127, 105) to lmdb (/home/xubiker/ADNI_Multimodal/dataset//NC/127_S_4645/SMRI/)\n",
      "cropping data: (121, 145, 121) -> (109, 131, 109)\n",
      "103. writing image of shape (105, 127, 105) to lmdb (/home/xubiker/ADNI_Multimodal/dataset//MCI/126_S_4712/SMRI/)\n",
      "cropping data: (121, 145, 121) -> (109, 131, 109)\n",
      "104. writing image of shape (105, 127, 105) to lmdb (/home/xubiker/ADNI_Multimodal/dataset//NC/003_S_4555/SMRI/)\n",
      "cropping data: (121, 145, 121) -> (109, 131, 109)\n",
      "105. writing image of shape (105, 127, 105) to lmdb (/home/xubiker/ADNI_Multimodal/dataset//AD/021_S_4924/SMRI/)\n",
      "cropping data: (121, 145, 121) -> (109, 131, 109)\n",
      "106. writing image of shape (105, 127, 105) to lmdb (/home/xubiker/ADNI_Multimodal/dataset//MCI/016_S_5007/SMRI/)\n",
      "cropping data: (121, 145, 121) -> (109, 131, 109)\n",
      "107. writing image of shape (105, 127, 105) to lmdb (/home/xubiker/ADNI_Multimodal/dataset//AD/094_S_4089/SMRI/)\n",
      "cropping data: (121, 145, 121) -> (109, 131, 109)\n",
      "108. writing image of shape (105, 127, 105) to lmdb (/home/xubiker/ADNI_Multimodal/dataset//AD/052_S_4959/SMRI/)\n",
      "cropping data: (121, 145, 121) -> (109, 131, 109)\n",
      "109. writing image of shape (105, 127, 105) to lmdb (/home/xubiker/ADNI_Multimodal/dataset//AD/021_S_4924/SMRI/)\n",
      "cropping data: (121, 145, 121) -> (109, 131, 109)\n",
      "110. writing image of shape (105, 127, 105) to lmdb (/home/xubiker/ADNI_Multimodal/dataset//AD/027_S_4801/SMRI/)\n",
      "cropping data: (121, 145, 121) -> (109, 131, 109)\n",
      "111. writing image of shape (105, 127, 105) to lmdb (/home/xubiker/ADNI_Multimodal/dataset//NC/127_S_4198/SMRI/)\n",
      "cropping data: (121, 145, 121) -> (109, 131, 109)\n",
      "112. writing image of shape (105, 127, 105) to lmdb (/home/xubiker/ADNI_Multimodal/dataset//NC/007_S_4488/SMRI/)\n",
      "cropping data: (121, 145, 121) -> (109, 131, 109)\n",
      "113. writing image of shape (105, 127, 105) to lmdb (/home/xubiker/ADNI_Multimodal/dataset//NC/007_S_4488/SMRI/)\n",
      "cropping data: (121, 145, 121) -> (109, 131, 109)\n",
      "114. writing image of shape (105, 127, 105) to lmdb (/home/xubiker/ADNI_Multimodal/dataset//NC/127_S_4604/SMRI/)\n",
      "cropping data: (121, 145, 121) -> (109, 131, 109)\n",
      "115. writing image of shape (105, 127, 105) to lmdb (/home/xubiker/ADNI_Multimodal/dataset//MCI/021_S_4633/SMRI/)\n",
      "cropping data: (121, 145, 121) -> (109, 131, 109)\n",
      "116. writing image of shape (105, 127, 105) to lmdb (/home/xubiker/ADNI_Multimodal/dataset//MCI/029_S_4327/SMRI/)\n",
      "cropping data: (121, 145, 121) -> (109, 131, 109)\n",
      "117. writing image of shape (105, 127, 105) to lmdb (/home/xubiker/ADNI_Multimodal/dataset//AD/094_S_4737/SMRI/)\n",
      "cropping data: (121, 145, 121) -> (109, 131, 109)\n",
      "118. writing image of shape (105, 127, 105) to lmdb (/home/xubiker/ADNI_Multimodal/dataset//NC/007_S_4620/SMRI/)\n",
      "cropping data: (121, 145, 121) -> (109, 131, 109)\n",
      "119. writing image of shape (105, 127, 105) to lmdb (/home/xubiker/ADNI_Multimodal/dataset//AD/003_S_5165/SMRI/)\n",
      "cropping data: (121, 145, 121) -> (109, 131, 109)\n",
      "120. writing image of shape (105, 127, 105) to lmdb (/home/xubiker/ADNI_Multimodal/dataset//MCI/027_S_4804/SMRI/)\n",
      "cropping data: (121, 145, 121) -> (109, 131, 109)\n",
      "121. writing image of shape (105, 127, 105) to lmdb (/home/xubiker/ADNI_Multimodal/dataset//MCI/094_S_4630/SMRI/)\n",
      "cropping data: (121, 145, 121) -> (109, 131, 109)\n",
      "122. writing image of shape (105, 127, 105) to lmdb (/home/xubiker/ADNI_Multimodal/dataset//NC/016_S_4638/SMRI/)\n",
      "cropping data: (121, 145, 121) -> (109, 131, 109)\n",
      "123. writing image of shape (105, 127, 105) to lmdb (/home/xubiker/ADNI_Multimodal/dataset//AD/027_S_4964/SMRI/)\n",
      "cropping data: (121, 145, 121) -> (109, 131, 109)\n",
      "124. writing image of shape (105, 127, 105) to lmdb (/home/xubiker/ADNI_Multimodal/dataset//MCI/126_S_4458/SMRI/)\n",
      "cropping data: (121, 145, 121) -> (109, 131, 109)\n",
      "125. writing image of shape (105, 127, 105) to lmdb (/home/xubiker/ADNI_Multimodal/dataset//MCI/027_S_4955/SMRI/)\n",
      "cropping data: (121, 145, 121) -> (109, 131, 109)\n",
      "126. writing image of shape (105, 127, 105) to lmdb (/home/xubiker/ADNI_Multimodal/dataset//MCI/109_S_4260/SMRI/)\n",
      "cropping data: (121, 145, 121) -> (109, 131, 109)\n",
      "127. writing image of shape (105, 127, 105) to lmdb (/home/xubiker/ADNI_Multimodal/dataset//AD/094_S_4089/SMRI/)\n",
      "cropping data: (121, 145, 121) -> (109, 131, 109)\n",
      "128. writing image of shape (105, 127, 105) to lmdb (/home/xubiker/ADNI_Multimodal/dataset//MCI/094_S_4858/SMRI/)\n",
      "cropping data: (121, 145, 121) -> (109, 131, 109)\n",
      "129. writing image of shape (105, 127, 105) to lmdb (/home/xubiker/ADNI_Multimodal/dataset//MCI/016_S_4902/SMRI/)\n",
      "cropping data: (121, 145, 121) -> (109, 131, 109)\n",
      "130. writing image of shape (105, 127, 105) to lmdb (/home/xubiker/ADNI_Multimodal/dataset//MCI/021_S_2077/SMRI/)\n",
      "cropping data: (121, 145, 121) -> (109, 131, 109)\n",
      "131. writing image of shape (105, 127, 105) to lmdb (/home/xubiker/ADNI_Multimodal/dataset//AD/027_S_4801/SMRI/)\n",
      "cropping data: (121, 145, 121) -> (109, 131, 109)\n",
      "132. writing image of shape (105, 127, 105) to lmdb (/home/xubiker/ADNI_Multimodal/dataset//MCI/109_S_4260/SMRI/)\n",
      "cropping data: (121, 145, 121) -> (109, 131, 109)\n",
      "133. writing image of shape (105, 127, 105) to lmdb (/home/xubiker/ADNI_Multimodal/dataset//AD/094_S_4282/SMRI/)\n",
      "cropping data: (121, 145, 121) -> (109, 131, 109)\n",
      "134. writing image of shape (105, 127, 105) to lmdb (/home/xubiker/ADNI_Multimodal/dataset//MCI/094_S_2238/SMRI/)\n",
      "cropping data: (121, 145, 121) -> (109, 131, 109)\n",
      "135. writing image of shape (105, 127, 105) to lmdb (/home/xubiker/ADNI_Multimodal/dataset//MCI/126_S_2407/SMRI/)\n",
      "cropping data: (121, 145, 121) -> (109, 131, 109)\n",
      "136. writing image of shape (105, 127, 105) to lmdb (/home/xubiker/ADNI_Multimodal/dataset//NC/007_S_4516/SMRI/)\n",
      "cropping data: (121, 145, 121) -> (109, 131, 109)\n",
      "137. writing image of shape (105, 127, 105) to lmdb (/home/xubiker/ADNI_Multimodal/dataset//MCI/127_S_4844/SMRI/)\n",
      "cropping data: (121, 145, 121) -> (109, 131, 109)\n",
      "138. writing image of shape (105, 127, 105) to lmdb (/home/xubiker/ADNI_Multimodal/dataset//AD/016_S_4887/SMRI/)\n",
      "cropping data: (121, 145, 121) -> (109, 131, 109)\n",
      "139. writing image of shape (105, 127, 105) to lmdb (/home/xubiker/ADNI_Multimodal/dataset//NC/127_S_4604/SMRI/)\n",
      "cropping data: (121, 145, 121) -> (109, 131, 109)\n",
      "140. writing image of shape (105, 127, 105) to lmdb (/home/xubiker/ADNI_Multimodal/dataset//AD/127_S_4940/SMRI/)\n",
      "cropping data: (121, 145, 121) -> (109, 131, 109)\n",
      "141. writing image of shape (105, 127, 105) to lmdb (/home/xubiker/ADNI_Multimodal/dataset//MCI/021_S_2077/SMRI/)\n",
      "cropping data: (121, 145, 121) -> (109, 131, 109)\n",
      "142. writing image of shape (105, 127, 105) to lmdb (/home/xubiker/ADNI_Multimodal/dataset//NC/127_S_4198/SMRI/)\n",
      "cropping data: (121, 145, 121) -> (109, 131, 109)\n",
      "143. writing image of shape (105, 127, 105) to lmdb (/home/xubiker/ADNI_Multimodal/dataset//MCI/109_S_4594/SMRI/)\n",
      "cropping data: (121, 145, 121) -> (109, 131, 109)\n",
      "144. writing image of shape (105, 127, 105) to lmdb (/home/xubiker/ADNI_Multimodal/dataset//NC/099_S_4104/SMRI/)\n",
      "cropping data: (121, 145, 121) -> (109, 131, 109)\n",
      "145. writing image of shape (105, 127, 105) to lmdb (/home/xubiker/ADNI_Multimodal/dataset//AD/094_S_4282/SMRI/)\n",
      "cropping data: (121, 145, 121) -> (109, 131, 109)\n",
      "146. writing image of shape (105, 127, 105) to lmdb (/home/xubiker/ADNI_Multimodal/dataset//AD/094_S_4089/SMRI/)\n",
      "cropping data: (121, 145, 121) -> (109, 131, 109)\n",
      "147. writing image of shape (105, 127, 105) to lmdb (/home/xubiker/ADNI_Multimodal/dataset//NC/003_S_4872/SMRI/)\n",
      "cropping data: (121, 145, 121) -> (109, 131, 109)\n",
      "148. writing image of shape (105, 127, 105) to lmdb (/home/xubiker/ADNI_Multimodal/dataset//NC/007_S_4516/SMRI/)\n",
      "cropping data: (121, 145, 121) -> (109, 131, 109)\n",
      "149. writing image of shape (105, 127, 105) to lmdb (/home/xubiker/ADNI_Multimodal/dataset//NC/003_S_4555/SMRI/)\n",
      "cropping data: (121, 145, 121) -> (109, 131, 109)\n",
      "150. writing image of shape (105, 127, 105) to lmdb (/home/xubiker/ADNI_Multimodal/dataset//NC/127_S_4198/SMRI/)\n",
      "cropping data: (121, 145, 121) -> (109, 131, 109)\n",
      "151. writing image of shape (105, 127, 105) to lmdb (/home/xubiker/ADNI_Multimodal/dataset//MCI/126_S_2407/SMRI/)\n",
      "cropping data: (121, 145, 121) -> (109, 131, 109)\n",
      "152. writing image of shape (105, 127, 105) to lmdb (/home/xubiker/ADNI_Multimodal/dataset//AD/094_S_4737/SMRI/)\n",
      "cropping data: (121, 145, 121) -> (109, 131, 109)\n",
      "153. writing image of shape (105, 127, 105) to lmdb (/home/xubiker/ADNI_Multimodal/dataset//AD/027_S_4964/SMRI/)\n",
      "cropping data: (121, 145, 121) -> (109, 131, 109)\n",
      "154. writing image of shape (105, 127, 105) to lmdb (/home/xubiker/ADNI_Multimodal/dataset//MCI/021_S_4633/SMRI/)\n",
      "cropping data: (121, 145, 121) -> (109, 131, 109)\n",
      "155. writing image of shape (105, 127, 105) to lmdb (/home/xubiker/ADNI_Multimodal/dataset//AD/021_S_4924/SMRI/)\n",
      "cropping data: (121, 145, 121) -> (109, 131, 109)\n",
      "156. writing image of shape (105, 127, 105) to lmdb (/home/xubiker/ADNI_Multimodal/dataset//AD/003_S_4142/SMRI/)\n",
      "cropping data: (121, 145, 121) -> (109, 131, 109)\n",
      "157. writing image of shape (105, 127, 105) to lmdb (/home/xubiker/ADNI_Multimodal/dataset//NC/003_S_4288/SMRI/)\n",
      "cropping data: (121, 145, 121) -> (109, 131, 109)\n",
      "158. writing image of shape (105, 127, 105) to lmdb (/home/xubiker/ADNI_Multimodal/dataset//MCI/029_S_2376/SMRI/)\n",
      "cropping data: (121, 145, 121) -> (109, 131, 109)\n",
      "159. writing image of shape (105, 127, 105) to lmdb (/home/xubiker/ADNI_Multimodal/dataset//NC/003_S_4840/SMRI/)\n",
      "cropping data: (121, 145, 121) -> (109, 131, 109)\n",
      "160. writing image of shape (105, 127, 105) to lmdb (/home/xubiker/ADNI_Multimodal/dataset//AD/127_S_4940/SMRI/)\n",
      "cropping data: (121, 145, 121) -> (109, 131, 109)\n",
      "161. writing image of shape (105, 127, 105) to lmdb (/home/xubiker/ADNI_Multimodal/dataset//NC/098_S_4050/SMRI/)\n",
      "debug plotting slices for 'alz_MRI_valid' lmdb data\n",
      "database debug info: {'overflow_pages': 443070, 'entries': 162, 'branch_pages': 1, 'depth': 2, 'psize': 4096, 'leaf_pages': 2}\n"
     ]
    },
    {
     "data": {
      "image/png": "[encoded data removed]",
      "text/plain": [
       "<matplotlib.figure.Figure at 0x7e39ceba6198>"
      ]
     },
     "metadata": {},
     "output_type": "display_data"
    },
    {
     "data": {
      "image/png": "[encoded data removed]",
      "text/plain": [
       "<matplotlib.figure.Figure at 0x7e39cec0de80>"
      ]
     },
     "metadata": {},
     "output_type": "display_data"
    },
    {
     "data": {
      "image/png": "[encoded data removed]",
      "text/plain": [
       "<matplotlib.figure.Figure at 0x7f22a3648c18>"
      ]
     },
     "metadata": {},
     "output_type": "display_data"
    },
    {
     "name": "stdout",
     "output_type": "stream",
     "text": [
      "database debug info: {'overflow_pages': 443070, 'entries': 162, 'branch_pages': 1, 'depth': 2, 'psize': 4096, 'leaf_pages': 2}\n"
     ]
    },
    {
     "data": {
      "image/png": "[encoded data removed]",
      "text/plain": [
       "<matplotlib.figure.Figure at 0x7e39cec16518>"
      ]
     },
     "metadata": {},
     "output_type": "display_data"
    },
    {
     "data": {
      "image/png": "[encoded data removed]",
      "text/plain": [
       "<matplotlib.figure.Figure at 0x7f22a352ce48>"
      ]
     },
     "metadata": {},
     "output_type": "display_data"
    },
    {
     "data": {
      "image/png": "[encoded data removed]",
      "text/plain": [
       "<matplotlib.figure.Figure at 0x7f22a3494cf8>"
      ]
     },
     "metadata": {},
     "output_type": "display_data"
    },
    {
     "name": "stdout",
     "output_type": "stream",
     "text": [
      "mean image reshaped to (1, 105, 127, 105)\n"
     ]
    }
   ],
   "source": [
    "import numpy as np\n",
    "adni_root = '/home/xubiker/ADNI_Multimodal/dataset/'\n",
    "max_augm = {'shift': 2, 'blur': 1.2}\n",
    "test_prc = 0.25\n",
    "valid_prc = 0.25\n",
    "augm_factor = 2\n",
    "dtype = np.float\n",
    "\n",
    "crop_params = {'shift': (0, 0, -0.05), 'prc': (0.05, 0.05, 0.05)}\n",
    "\n",
    "\n",
    "train_list, valid_list, test_list = generate_lists_from_adni2(\n",
    "    adni_root, max_augm, test_prc=test_prc, valid_prc=valid_prc, augm_factor=augm_factor,\n",
    "    shuffle_data=True, debug=False)\n",
    "\n",
    "train_mri_list, train_dti_list = split_mri_dti(train_list)\n",
    "valid_mri_list, valid_dti_list = split_mri_dti(valid_list)\n",
    "test_mri_list, test_dti_list = split_mri_dti(test_list)\n",
    "\n",
    "# lists_with_names = zip(\n",
    "#     [train_mri_list, valid_mri_list, test_mri_list, train_dti_list, valid_dti_list, test_dti_list],\n",
    "#     ['alz_sMRI_train', 'alz_sMRI_valid', 'alz_sMRI_test', 'alz_MD_train', 'alz_MD_valid', 'alz_MD_test'])\n",
    "lists_with_names = zip(\n",
    "    [valid_mri_list],\n",
    "    ['alz_MRI_valid'])\n",
    "\n",
    "for i in lists_with_names:\n",
    "    item = i[0]\n",
    "    name = i[1]\n",
    "    make_lmdb(one_modality_list=item, data_type=dtype, lmdb_name=name, max_augm_shift=max_augm['shift'], crop_params=crop_params)\n",
    "#     debug_lmdb_print_info(name)\n",
    "    debug_lmdb_plot_slices(name, data_type=dtype)\n",
    "    mean = calc_lmdb_mean(lmdb_path=name, data_type=dtype, reshape_4D=True, plot_mean=True)\n",
    "    array_to_proto(data=mean, proto_name=name+'_mean.binaryproto')"
   ]
  }
 ],
 "metadata": {
  "kernelspec": {
   "display_name": "Python 3",
   "language": "python",
   "name": "python3"
  },
  "language_info": {
   "codemirror_mode": {
    "name": "ipython",
    "version": 3
   },
   "file_extension": ".py",
   "mimetype": "text/x-python",
   "name": "python",
   "nbconvert_exporter": "python",
   "pygments_lexer": "ipython3",
   "version": "3.5.3"
  }
 },
 "nbformat": 4,
 "nbformat_minor": 2
}
